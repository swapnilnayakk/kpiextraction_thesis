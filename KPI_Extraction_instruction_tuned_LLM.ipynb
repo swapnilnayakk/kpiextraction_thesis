{
 "cells": [
  {
   "cell_type": "code",
   "execution_count": 46,
   "id": "2b2a7e4e",
   "metadata": {},
   "outputs": [],
   "source": [
    "from langchain.schema import HumanMessage\n",
    "import re\n",
    "import boto3"
   ]
  },
  {
   "cell_type": "code",
   "execution_count": 47,
   "id": "1ef5df14",
   "metadata": {},
   "outputs": [],
   "source": [
    "from langchain_aws import ChatBedrock\n",
    "\n",
    "llm = ChatBedrock(\n",
    "    credentials_profile_name=\"sf-test\", \n",
    "    model_id=\"arn:aws:bedrock:us-east-1:225285538696:custom-model/cohere.command-light-text-v14:7:4k/3u1xe1y3cmpn\"\n",
    ")"
   ]
  },
  {
   "cell_type": "code",
   "execution_count": 48,
   "id": "41c2d63b",
   "metadata": {},
   "outputs": [
    {
     "name": "stdout",
     "output_type": "stream",
     "text": [
      "Loaded 215 data_lines\n"
     ]
    }
   ],
   "source": [
    "import json\n",
    "\n",
    "data = []\n",
    "with open('test_data.jsonl', 'r') as f:\n",
    "    for line in f:\n",
    "        data_line = json.loads(line)\n",
    "        data.append(data_line)\n",
    "\n",
    "print(f\"Loaded {len(data)} data_lines\")"
   ]
  },
  {
   "cell_type": "code",
   "execution_count": 49,
   "id": "6727806c",
   "metadata": {},
   "outputs": [
    {
     "name": "stdout",
     "output_type": "stream",
     "text": [
      "Precision: 0.24, Recall: 0.25, F1: 0.25\n"
     ]
    }
   ],
   "source": [
    "def parse_llm_response(response: str):\n",
    "    try:\n",
    "        # Match basic Python-like list of tuples\n",
    "        pattern = r\"\\([^)]+\\)\"\n",
    "        tuples = re.findall(pattern, response)\n",
    "        result = []\n",
    "        for t in tuples:\n",
    "            parts = [p.strip().strip(\"'\\\"\") for p in t.strip(\"()\").split(\",\")]\n",
    "            if len(parts) == 3:\n",
    "                result.append(tuple(map(str.lower, parts)))\n",
    "        return result\n",
    "    except Exception as e:\n",
    "        print(f\"Parse error: {e}\\nResponse: {response}\")\n",
    "        return []\n",
    "\n",
    "def evaluate_predictions(gold, pred):\n",
    "    gold_set = set(gold)\n",
    "    pred_set = set(pred)\n",
    "    tp = len(gold_set & pred_set)\n",
    "    fp = len(pred_set - gold_set)\n",
    "    fn = len(gold_set - pred_set)\n",
    "    precision = tp / (tp + fp + 1e-5)\n",
    "    recall = tp / (tp + fn + 1e-5)\n",
    "    f1 = 2 * precision * recall / (precision + recall + 1e-5)\n",
    "    return precision, recall, f1\n",
    "\n",
    "# Evaluate the predictions\n",
    "results = []\n",
    "for i, data_line in enumerate(data): \n",
    "    expected = eval(data_line['completion'])\n",
    "    \n",
    "    # Get response and parse it\n",
    "    messages = [HumanMessage(content=data_line['prompt'])]\n",
    "    accept = 'application/json'\n",
    "    content_type = 'application/json'\n",
    "\n",
    "    bedrock = boto3.client(service_name='bedrock-runtime')\n",
    "\n",
    "    body = json.dumps({\n",
    "        \"prompt\": data_line['prompt'],\n",
    "        \"max_tokens\": 200,\n",
    "        \"temperature\": 0.2,\n",
    "        \"p\": 1,\n",
    "        \"k\": 0,\n",
    "        \"num_generations\": 1,\n",
    "        \"return_likelihoods\": \"GENERATION\"\n",
    "    })\n",
    "\n",
    "    response = bedrock.invoke_model(\n",
    "        body=body,\n",
    "        modelId=\"arn:aws:bedrock:us-east-1:225285538696:provisioned-model/v3xjyaqeu1w4\",\n",
    "        accept=accept,\n",
    "        contentType=content_type\n",
    "    )\n",
    "    response_body = json.loads(response.get('body').read())\n",
    "    generations = response_body.get('generations')\n",
    "    predicted = parse_llm_response(generations[0]['text'])\n",
    "    \n",
    "    # Calculate metrics\n",
    "    precision, recall, f1 = evaluate_predictions(expected, predicted)\n",
    "    results.append({\n",
    "        'data_line': i+1,\n",
    "        'Prompt': str(data_line['prompt']).strip(),\n",
    "        'Expected': expected,\n",
    "        'Predicted': predicted,\n",
    "        'Precision': precision,\n",
    "        'Recall': recall,\n",
    "        'F1': f1,\n",
    "    })\n",
    "\n",
    "avg_p = sum(r['Precision'] for r in results) / len(results)\n",
    "avg_r = sum(r['Recall'] for r in results) / len(results)\n",
    "avg_f = sum(r['F1'] for r in results) / len(results)\n",
    "print(f\"Precision: {avg_p:.2f}, Recall: {avg_r:.2f}, F1: {avg_f:.2f}\")"
   ]
  },
  {
   "cell_type": "code",
   "execution_count": 50,
   "id": "2f618810",
   "metadata": {},
   "outputs": [],
   "source": [
    "import pandas as pd\n",
    "\n",
    "# Convert results list to DataFrame\n",
    "df_results = pd.DataFrame(results)\n",
    "\n",
    "# Save to CSV\n",
    "df_results.to_csv('evaluation_results_custom_2.csv', index=False)"
   ]
  },
  {
   "cell_type": "code",
   "execution_count": null,
   "id": "7d0b5dfe",
   "metadata": {},
   "outputs": [],
   "source": []
  }
 ],
 "metadata": {
  "kernelspec": {
   "display_name": "Python 3",
   "language": "python",
   "name": "python3"
  },
  "language_info": {
   "codemirror_mode": {
    "name": "ipython",
    "version": 3
   },
   "file_extension": ".py",
   "mimetype": "text/x-python",
   "name": "python",
   "nbconvert_exporter": "python",
   "pygments_lexer": "ipython3",
   "version": "3.11.7"
  }
 },
 "nbformat": 4,
 "nbformat_minor": 5
}
